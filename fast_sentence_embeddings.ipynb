{
 "cells": [
  {
   "cell_type": "markdown",
   "metadata": {},
   "source": [
    "## Sentence embeddings with Fast Sentence Embedding"
   ]
  },
  {
   "cell_type": "raw",
   "metadata": {},
   "source": [
    "!pip install -U fse"
   ]
  },
  {
   "cell_type": "code",
   "execution_count": null,
   "metadata": {},
   "outputs": [],
   "source": [
    "from numpy.linalg import norm\n",
    "from gensim.models import FastText\n",
    "\n",
    "from fse.models import Average\n",
    "from fse import IndexedList"
   ]
  },
  {
   "cell_type": "code",
   "execution_count": 16,
   "metadata": {},
   "outputs": [
    {
     "data": {
      "text/plain": [
       "[['We', 'scanned', 'the', 'skies', 'with', 'rainbow', 'eyes'],\n",
       " ['We', 'looked', 'up', 'into', 'the', 'sky'],\n",
       " ['It', 'was', 'raining', 'and', 'I', 'saw', 'a', 'rainbow'],\n",
       " ['This', 'sentence', 'should', 'not', 'be', 'similar', 'to', 'anything'],\n",
       " ['Erer', 'blafgfgh', 'jnjnjn', 'ououou', 'kjnkjnk']]"
      ]
     },
     "execution_count": 16,
     "metadata": {},
     "output_type": "execute_result"
    }
   ],
   "source": [
    "sample_sentences = [\"We scanned the skies with rainbow eyes\",\n",
    "                    \"We looked up into the sky\", \n",
    "                    \"It was raining and I saw a rainbow\", \n",
    "                    \"This sentence should not be similar to anything\", \n",
    "                    \"Erer blafgfgh jnjnjn ououou kjnkjnk\"]\n",
    "sample_sentences = [s.split() for s in sample_sentences]\n",
    "sample_sentences"
   ]
  },
  {
   "cell_type": "code",
   "execution_count": 26,
   "metadata": {},
   "outputs": [
    {
     "data": {
      "text/plain": [
       "(5, 34)"
      ]
     },
     "execution_count": 26,
     "metadata": {},
     "output_type": "execute_result"
    }
   ],
   "source": [
    "ft = FastText(sample_sentences, min_count=1, size=10)\n",
    "model = Average(ft)\n",
    "model.train(IndexedList(sample_sentences))"
   ]
  },
  {
   "cell_type": "code",
   "execution_count": 32,
   "metadata": {},
   "outputs": [
    {
     "name": "stdout",
     "output_type": "stream",
     "text": [
      "L2 norm of '['We', 'scanned', 'the', 'skies', 'with', 'rainbow', 'eyes']': is 0.0677\n",
      "L2 norm of '['We', 'looked', 'up', 'into', 'the', 'sky']': is 0.0555\n",
      "L2 norm of '['It', 'was', 'raining', 'and', 'I', 'saw', 'a', 'rainbow']': is 0.04633\n",
      "L2 norm of '['This', 'sentence', 'should', 'not', 'be', 'similar', 'to', 'anything']': is 0.09378\n",
      "L2 norm of '['Erer', 'blafgfgh', 'jnjnjn', 'ououou', 'kjnkjnk']': is 0.07441\n"
     ]
    }
   ],
   "source": [
    "# Get the L2 norm\n",
    "for idx, sentence in enumerate(sample_sentences):\n",
    "  l2 = norm(model.sv[idx])\n",
    "  print(f\"L2 norm of '{sentence}': is {l2:.4}\")"
   ]
  },
  {
   "cell_type": "code",
   "execution_count": null,
   "metadata": {},
   "outputs": [],
   "source": []
  }
 ],
 "metadata": {
  "kernelspec": {
   "display_name": "Python 3",
   "language": "python",
   "name": "python3"
  },
  "language_info": {
   "codemirror_mode": {
    "name": "ipython",
    "version": 3
   },
   "file_extension": ".py",
   "mimetype": "text/x-python",
   "name": "python",
   "nbconvert_exporter": "python",
   "pygments_lexer": "ipython3",
   "version": "3.7.3"
  }
 },
 "nbformat": 4,
 "nbformat_minor": 2
}
