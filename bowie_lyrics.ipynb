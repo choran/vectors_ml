{
 "cells": [
  {
   "cell_type": "code",
   "execution_count": 190,
   "metadata": {},
   "outputs": [],
   "source": [
    "free_fest_lyrics = \"\"\"\n",
    "The children of the summer's end\n",
    "Gathered in the dampened grass\n",
    "We played Our songs and felt the London sky\n",
    "Resting on our hands\n",
    "It was God's land.\n",
    "It was ragged and naive.\n",
    "It was Heaven.\n",
    "\n",
    "Touch, we touched the very soul\n",
    "Of holding each and every life.\n",
    "We claimed the very source of joy ran through.\n",
    "It didn't, but it seemed that way.\n",
    "I kissed a lot of people that day.\n",
    "\n",
    "Oh, to capture just one drop of all the ecstasy \n",
    "that swept that afternoon,\n",
    "To paint that love upon a white balloon,\n",
    "And fly it from the toppest top \n",
    "of all the tops that man has \n",
    "pushed beyond his Brain.\n",
    "Satoria must be something just the same.\n",
    "\n",
    "We scanned the skies with rainbow eyes \n",
    "and saw machines of every shape and size.\n",
    "We talked with tall Venusians passing through.\n",
    "And Peter tried to climb aboard \n",
    "but the Captain shook his head\n",
    "And away they soared,\n",
    "Climbing through the ivory vibrant cloud.\n",
    "Someone passed some bliss among the crowd.\n",
    "And we walked back to the road, unchained.\n",
    "\n",
    "The Sun Machine is coming down, \n",
    "and we're gonna have a party.\n",
    "The Sun Machine is coming down, \n",
    "and we're gonna have a party.\n",
    "The Sun Machine is coming down, \n",
    "and we're gonna have a party.\n",
    "The Sun Machine is coming down, \n",
    "and we're gonna have a party.\n",
    "The Sun Machine is coming down, \n",
    "and we're gonna have a party.\n",
    "\"\"\""
   ]
  },
  {
   "cell_type": "code",
   "execution_count": 191,
   "metadata": {},
   "outputs": [],
   "source": [
    "lyric_list = [x for x in free_fest_lyrics.split(\"\\n\") if x]"
   ]
  },
  {
   "cell_type": "markdown",
   "metadata": {},
   "source": [
    "### Create the vocab"
   ]
  },
  {
   "cell_type": "code",
   "execution_count": 192,
   "metadata": {},
   "outputs": [
    {
     "name": "stdout",
     "output_type": "stream",
     "text": [
      "There are 9 unique words in these lyrics:\n",
      "They are: {'children', 'in', 'of', 'grass', 'gathered', 'the', 'end', \"summer's\", 'dampened'}\n"
     ]
    }
   ],
   "source": [
    "def get_vocab(text):\n",
    "    vocab = set()\n",
    "    for line in text:\n",
    "        vocab.update([word.lower() for word in line.split()])\n",
    "    return(vocab)\n",
    "\n",
    "vocab = get_vocab(lyric_list[0:2])\n",
    "print(f'There are {len(vocab)} unique words in these lyrics:')\n",
    "print(f'They are: {vocab}')"
   ]
  },
  {
   "cell_type": "markdown",
   "metadata": {},
   "source": [
    "### Set up the count vector"
   ]
  },
  {
   "cell_type": "code",
   "execution_count": 193,
   "metadata": {},
   "outputs": [],
   "source": [
    "def vector_lookup(text):\n",
    "    vocab_dict = {}\n",
    "    vocab = get_vocab(text)\n",
    "    for count, word in enumerate(vocab):\n",
    "        vocab_dict[count] = word\n",
    "    return(vocab_dict)"
   ]
  },
  {
   "cell_type": "markdown",
   "metadata": {},
   "source": [
    "### Create an input vector"
   ]
  },
  {
   "cell_type": "code",
   "execution_count": 194,
   "metadata": {},
   "outputs": [],
   "source": [
    "def input_vector(count_vector, input_text):\n",
    "    input_count = {}\n",
    "    input_vector = []\n",
    "    # Get the count of words in the text\n",
    "    for word in input_text.split():\n",
    "        input_count[word.lower()] = input_count.get(word, 0)+1\n",
    "    # Now create a vector based on our vocab\n",
    "    vector_size = len(count_vector)\n",
    "    for idx in range(vector_size):\n",
    "        # Check if the input text exists in the vocab\n",
    "        value = input_count.get(count_vector[idx], 0)\n",
    "        input_vector.append(value)\n",
    "    return(input_vector)"
   ]
  },
  {
   "cell_type": "code",
   "execution_count": 195,
   "metadata": {},
   "outputs": [
    {
     "data": {
      "text/plain": [
       "[\"The children of the summer's end\", 'Gathered in the dampened grass']"
      ]
     },
     "execution_count": 195,
     "metadata": {},
     "output_type": "execute_result"
    }
   ],
   "source": [
    "lyric_list[0:2]"
   ]
  },
  {
   "cell_type": "code",
   "execution_count": 196,
   "metadata": {},
   "outputs": [
    {
     "name": "stdout",
     "output_type": "stream",
     "text": [
      "{0: 'children', 1: 'in', 2: 'of', 3: 'grass', 4: 'gathered', 5: 'the', 6: 'end', 7: \"summer's\", 8: 'dampened'}\n"
     ]
    }
   ],
   "source": [
    "count_vector = vector_lookup(lyric_list[0:2])\n",
    "print(count_vector)"
   ]
  },
  {
   "cell_type": "code",
   "execution_count": 197,
   "metadata": {},
   "outputs": [
    {
     "name": "stdout",
     "output_type": "stream",
     "text": [
      "[1, 1, 0, 1, 0, 2, 0, 0, 0]\n"
     ]
    }
   ],
   "source": [
    "print(input_vector(count_vector, \"The children played in the grass\"))"
   ]
  },
  {
   "cell_type": "markdown",
   "metadata": {},
   "source": [
    "### Use the full song lyrics"
   ]
  },
  {
   "cell_type": "code",
   "execution_count": 198,
   "metadata": {},
   "outputs": [
    {
     "name": "stdout",
     "output_type": "stream",
     "text": [
      "The new feture size is 129\n",
      "[0, 0, 0, 0, 0, 0, 0, 0, 0, 0, 0, 0, 0, 0, 0, 0, 1, 0, 0, 0, 0, 0, 0, 0, 0, 0, 0, 0, 0, 0, 0, 0, 0, 0, 0, 0, 0, 0, 0, 0, 0, 0, 0, 0, 0, 0, 0, 0, 0, 0, 0, 0, 0, 0, 0, 0, 0, 1, 0, 0, 0, 0, 2, 0, 0, 0, 0, 0, 0, 0, 0, 0, 0, 0, 0, 0, 0, 0, 0, 1, 0, 0, 0, 0, 0, 0, 0, 0, 0, 0, 0, 0, 0, 0, 0, 0, 0, 0, 0, 0, 0, 0, 0, 0, 0, 0, 0, 0, 0, 0, 0, 0, 0, 1, 0, 0, 0, 0, 0, 0, 0, 0, 0, 0, 0, 0, 0, 0, 0]\n"
     ]
    }
   ],
   "source": [
    "count_vector = vector_lookup(lyric_list)\n",
    "full_vec = input_vector(count_vector, \"The children played in the grass\")\n",
    "print(f'The new feture size is {len(count_vector)}')\n",
    "print(full_vec)"
   ]
  },
  {
   "cell_type": "markdown",
   "metadata": {},
   "source": [
    "### A matrix of Bowie lyrics"
   ]
  },
  {
   "cell_type": "code",
   "execution_count": 214,
   "metadata": {},
   "outputs": [
    {
     "name": "stdout",
     "output_type": "stream",
     "text": [
      "And fly it from the toppest top \n",
      "of all the tops that man has \n",
      "pushed beyond his Brain.\n",
      "Matrix shape: (3, 129))\n",
      "[[0 0 0 ... 0 0 0]\n",
      " [1 0 0 ... 0 0 0]\n",
      " [0 0 0 ... 0 0 0]]\n"
     ]
    }
   ],
   "source": [
    "import numpy as np\n",
    "np.set_printoptions(threshold=10)\n",
    "lyrics = []\n",
    "for lyric in lyric_list[15:18]:\n",
    "    print(lyric)\n",
    "    vec = input_vector(count_vector, lyric)\n",
    "    lyrics.append(vec)\n",
    "\n",
    "# Turn the list into a multidimensional array or matrix\n",
    "lyric_matrix = np.array(lyrics)\n",
    "print(f'Matrix shape: {lyric_matrix.shape})')\n",
    "print(lyric_matrix)"
   ]
  }
 ],
 "metadata": {
  "kernelspec": {
   "display_name": "Python 3",
   "language": "python",
   "name": "python3"
  },
  "language_info": {
   "codemirror_mode": {
    "name": "ipython",
    "version": 3
   },
   "file_extension": ".py",
   "mimetype": "text/x-python",
   "name": "python",
   "nbconvert_exporter": "python",
   "pygments_lexer": "ipython3",
   "version": "3.7.3"
  }
 },
 "nbformat": 4,
 "nbformat_minor": 2
}
